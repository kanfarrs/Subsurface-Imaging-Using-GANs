{
 "cells": [
  {
   "cell_type": "code",
   "execution_count": 5,
   "metadata": {},
   "outputs": [],
   "source": [
    "from Code import utilities as ut\n",
    "from Code import cGAN as model\n",
    "import numpy as np"
   ]
  },
  {
   "cell_type": "code",
   "execution_count": 6,
   "metadata": {},
   "outputs": [],
   "source": [
    "#user input\n",
    "latent_dim = 100\n",
    "n_batch = 128\n",
    "n_epoch = 1\n",
    "saveModel = 'test' #name of the saved model"
   ]
  },
  {
   "cell_type": "code",
   "execution_count": 7,
   "metadata": {},
   "outputs": [
    {
     "name": "stdout",
     "output_type": "stream",
     "text": [
      "input_real shape:  (1800, 64, 64, 1)\n",
      "input_cond shape:  (1800, 64, 64, 1)\n"
     ]
    }
   ],
   "source": [
    "#data loading and processing\n",
    "data = np.load('train_set_marm_100-30.npy')\n",
    "focused, defocused = ut.dataProcess(data)"
   ]
  },
  {
   "cell_type": "code",
   "execution_count": 13,
   "metadata": {},
   "outputs": [
    {
     "name": "stdout",
     "output_type": "stream",
     "text": [
      "__________________________________________________________________________________________________\n",
      "Layer (type)                    Output Shape         Param #     Connected to                     \n",
      "==================================================================================================\n",
      "input_23 (InputLayer)           (None, 100)          0                                            \n",
      "__________________________________________________________________________________________________\n",
      "dense_12 (Dense)                (None, 4096)         413696      input_23[0][0]                   \n",
      "__________________________________________________________________________________________________\n",
      "leaky_re_lu_33 (LeakyReLU)      (None, 4096)         0           dense_12[0][0]                   \n",
      "__________________________________________________________________________________________________\n",
      "reshape_6 (Reshape)             (None, 64, 64, 1)    0           leaky_re_lu_33[0][0]             \n",
      "__________________________________________________________________________________________________\n",
      "input_24 (InputLayer)           (None, 64, 64, 1)    0                                            \n",
      "__________________________________________________________________________________________________\n",
      "concatenate_12 (Concatenate)    (None, 64, 64, 2)    0           reshape_6[0][0]                  \n",
      "                                                                 input_24[0][0]                   \n",
      "__________________________________________________________________________________________________\n",
      "conv2d_33 (Conv2D)              (None, 64, 64, 32)   1056        concatenate_12[0][0]             \n",
      "__________________________________________________________________________________________________\n",
      "leaky_re_lu_34 (LeakyReLU)      (None, 64, 64, 32)   0           conv2d_33[0][0]                  \n",
      "__________________________________________________________________________________________________\n",
      "conv2d_34 (Conv2D)              (None, 64, 64, 32)   16416       leaky_re_lu_34[0][0]             \n",
      "__________________________________________________________________________________________________\n",
      "leaky_re_lu_35 (LeakyReLU)      (None, 64, 64, 32)   0           conv2d_34[0][0]                  \n",
      "__________________________________________________________________________________________________\n",
      "conv2d_35 (Conv2D)              (None, 64, 64, 32)   16416       leaky_re_lu_35[0][0]             \n",
      "__________________________________________________________________________________________________\n",
      "leaky_re_lu_36 (LeakyReLU)      (None, 64, 64, 32)   0           conv2d_35[0][0]                  \n",
      "__________________________________________________________________________________________________\n",
      "conv2d_36 (Conv2D)              (None, 64, 64, 1)    513         leaky_re_lu_36[0][0]             \n",
      "==================================================================================================\n",
      "Total params: 448,097\n",
      "Trainable params: 448,097\n",
      "Non-trainable params: 0\n",
      "__________________________________________________________________________________________________\n"
     ]
    }
   ],
   "source": [
    "#model building\n",
    "m = model.cGAN(focused.shape[1], focused.shape[2], focused.shape[3], latent_dim)\n",
    "d_model = m.discriminator()\n",
    "g_model = m.generator()\n",
    "gan_model = m.combined(g_model, d_model)\n",
    "g_model.summary()"
   ]
  },
  {
   "cell_type": "code",
   "execution_count": 5,
   "metadata": {},
   "outputs": [
    {
     "name": "stdout",
     "output_type": "stream",
     "text": [
      "================== Epoch 1 ==================\n",
      "\n"
     ]
    },
    {
     "name": "stderr",
     "output_type": "stream",
     "text": [
      "C:\\Users\\kanfar\\AppData\\Local\\Continuum\\anaconda3\\envs\\Deep\\lib\\site-packages\\keras\\engine\\training.py:490: UserWarning: Discrepancy between trainable weights and collected trainable weights, did you set `model.trainable` without calling `model.compile` after ?\n",
      "  'Discrepancy between trainable weights and collected trainable'\n",
      "C:\\Users\\kanfar\\AppData\\Local\\Continuum\\anaconda3\\envs\\Deep\\lib\\site-packages\\keras\\engine\\training.py:490: UserWarning: Discrepancy between trainable weights and collected trainable weights, did you set `model.trainable` without calling `model.compile` after ?\n",
      "  'Discrepancy between trainable weights and collected trainable'\n"
     ]
    },
    {
     "name": "stdout",
     "output_type": "stream",
     "text": [
      "Completed: 7%\n"
     ]
    },
    {
     "name": "stderr",
     "output_type": "stream",
     "text": [
      "C:\\Users\\kanfar\\AppData\\Local\\Continuum\\anaconda3\\envs\\Deep\\lib\\site-packages\\keras\\engine\\training.py:490: UserWarning: Discrepancy between trainable weights and collected trainable weights, did you set `model.trainable` without calling `model.compile` after ?\n",
      "  'Discrepancy between trainable weights and collected trainable'\n"
     ]
    },
    {
     "name": "stdout",
     "output_type": "stream",
     "text": [
      "Completed: 14%\n",
      "Completed: 21%\n",
      "Completed: 29%\n",
      "Completed: 36%\n",
      "Completed: 43%\n",
      "Completed: 50%\n",
      "Completed: 57%\n",
      "Completed: 64%\n",
      "Completed: 71%\n",
      "Completed: 79%\n",
      "Completed: 86%\n",
      "Completed: 93%\n",
      "Completed: 100%\n",
      "Epoch 1:: d_loss_real = 0.379, d_loss_fake = 0.901 g_loss = 0.567\n",
      "\n",
      "Time: 2.67 min\n"
     ]
    }
   ],
   "source": [
    "# train model\n",
    "m.train(g_model, d_model, gan_model, focused, defocused, latent_dim, n_epoch, n_batch, saveModel)"
   ]
  },
  {
   "cell_type": "code",
   "execution_count": null,
   "metadata": {},
   "outputs": [],
   "source": []
  }
 ],
 "metadata": {
  "kernelspec": {
   "display_name": "Python 3",
   "language": "python",
   "name": "python3"
  },
  "language_info": {
   "codemirror_mode": {
    "name": "ipython",
    "version": 3
   },
   "file_extension": ".py",
   "mimetype": "text/x-python",
   "name": "python",
   "nbconvert_exporter": "python",
   "pygments_lexer": "ipython3",
   "version": "3.7.4"
  }
 },
 "nbformat": 4,
 "nbformat_minor": 2
}
